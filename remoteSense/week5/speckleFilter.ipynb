{
 "cells": [
  {
   "cell_type": "code",
   "execution_count": 1,
   "metadata": {},
   "outputs": [],
   "source": [
    "import arcpy\n",
    "import os"
   ]
  },
  {
   "cell_type": "code",
   "execution_count": 2,
   "metadata": {},
   "outputs": [],
   "source": [
    "DATAPATH=r'C:\\Users\\mike\\Documents\\ArcGIS\\Projects\\Assignements\\remoteSensing\\week5\\data\\HH_input'"
   ]
  },
  {
   "cell_type": "code",
   "execution_count": 7,
   "metadata": {},
   "outputs": [
    {
     "data": {
      "text/plain": [
       "['AP_04887_FBS_F7090_RT1_HH.tif', 'AP_07571_FBD_F7090_RT1_HH.tif', 'AP_08242_FBD_F7090_RT1_HH.tif', 'AP_10255_FBS_F7090_RT1_HH.tif', 'AP_11597_FBS_F7090_RT1_HH.tif', 'AP_12268_FBD_F7090_RT1_HH.tif', 'AP_12939_FBD_F7090_RT1_HH.tif', 'AP_13610_FBD_F7090_RT1_HH.tif', 'AP_15623_FBS_F7090_RT1_HH.tif', 'AP_18307_FBD_F7090_RT1_HH.tif', 'AP_18978_FBD_F7090_RT1_HH.tif', 'AP_20991_FBS_F7090_RT1_HH.tif', 'AP_22333_FBS_F7090_RT1_HH.tif', 'AP_23004_FBD_F7090_RT1_HH.tif', 'AP_23675_FBD_F7090_RT1_HH.tif', 'AP_24346_FBD_F7090_RT1_HH.tif', 'AP_26359_FBS_F7090_RT1_HH.tif', 'AP_27030_FBS_F7090_RT1_HH.tif']"
      ]
     },
     "execution_count": 7,
     "metadata": {},
     "output_type": "execute_result"
    }
   ],
   "source": [
    "os.listdir(DATAPATH)"
   ]
  },
  {
   "cell_type": "code",
   "execution_count": 10,
   "metadata": {},
   "outputs": [],
   "source": [
    "rasters = [arcpy.Raster((\"%s\\\\%s\" % (DATAPATH, i))) for i in os.listdir(DATAPATH)]"
   ]
  },
  {
   "cell_type": "code",
   "execution_count": 14,
   "metadata": {},
   "outputs": [
    {
     "ename": "RuntimeError",
     "evalue": "Invalid Raster Function: 'Speckle'",
     "output_type": "error",
     "traceback": [
      "\u001b[0;31m---------------------------------------------------------------------------\u001b[0m\n\u001b[0;31mRuntimeError\u001b[0m                              Traceback (most recent call last)",
      "In  \u001b[0;34m[14]\u001b[0m:\nLine \u001b[0;34m4\u001b[0m:     additive_noise_mean=\u001b[34m0\u001b[39;49;00m, multiplicative_noise_mean=\u001b[34m1\u001b[39;49;00m)\n",
      "File \u001b[0;34mc:\\program files\\arcgis\\pro\\Resources\\arcpy\\arcpy\\ia\\raster_functions.py\u001b[0m, in \u001b[0;32mSpeckle\u001b[0m:\nLine \u001b[0;34m1655\u001b[0m:  raster_function_arguments=template_dict[\u001b[33m'\u001b[39;49;00m\u001b[33mrasterFunctionArguments\u001b[39;49;00m\u001b[33m'\u001b[39;49;00m])\n",
      "File \u001b[0;34mc:\\program files\\arcgis\\pro\\Resources\\arcpy\\arcpy\\ia\\_ia.py\u001b[0m, in \u001b[0;32mApply\u001b[0m:\nLine \u001b[0;34m134\u001b[0m:   raster_function_arguments=raster_function_arguments)\n",
      "\u001b[0;31mRuntimeError\u001b[0m: Invalid Raster Function: 'Speckle'\n\u001b[0;31m---------------------------------------------------------------------------\u001b[0m"
     ]
    }
   ],
   "source": [
    "for raster in rasters:\n",
    "    out_speckle_raster = arcpy.sa.Speckle(raster, filter_type=\"Lee\", filter_size=\"3x3\",\n",
    "                                              noise_model=\"AdditiveAndMultiplicative\", noise_var=0.25,\n",
    "                                              additive_noise_mean=0, multiplicative_noise_mean=1)"
   ]
  },
  {
   "cell_type": "raw",
   "metadata": {},
   "source": []
  }
 ],
 "metadata": {
  "kernelspec": {
   "display_name": "ArcGISPro",
   "language": "Python",
   "name": "python3"
  },
  "language_info": {
   "file_extension": ".py",
   "name": "python",
   "version": "3"
  }
 },
 "nbformat": 4,
 "nbformat_minor": 2
}
