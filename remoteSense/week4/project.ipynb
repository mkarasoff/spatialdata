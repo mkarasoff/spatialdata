{
 "cells": [
  {
   "cell_type": "markdown",
   "metadata": {},
   "source": [
    "# Notbook for Stereo Map Project\n"
   ]
  },
  {
   "cell_type": "code",
   "execution_count": 61,
   "metadata": {},
   "outputs": [],
   "source": [
    "import arcpy\n",
    "import os\n",
    "\n",
    "#This opens the project\n",
    "projDir=r'c:\\Users\\mike\\Documents\\ArcGIS\\Projects\\Assignements\\remoteSensing\\week4'\n",
    "proj=projDir + r'\\peerGrade\\peerGradeW4\\peerGradeW4.aprx'\n",
    "hHillsMapDir=projDir + r'\\data\\hHills'\n",
    "\n",
    "a=r'c:\\Users\\mike\\Documents\\ArcGIS\\Projects\\Assignements\\remoteSensing\\week4\\peerGrade\\peerGradeW4'\n",
    "\n",
    "\n",
    "aprx = arcpy.mp.ArcGISProject(\"CURRENT\")"
   ]
  },
  {
   "cell_type": "markdown",
   "metadata": {},
   "source": [
    "Opening the Stereo Map looks a bit tricky.  I'm doing that through the GUI for now.\n",
    "\n",
    "The rest is opening up the hollywood hills map."
   ]
  },
  {
   "cell_type": "code",
   "execution_count": 62,
   "metadata": {
    "scrolled": true
   },
   "outputs": [
    {
     "data": {
      "text/plain": [
       "<Result 'c:\\\\Users\\\\mike\\\\Documents\\\\ArcGIS\\\\Projects\\\\Assignements\\\\remoteSensing\\\\week4\\\\data\\\\hHills'>"
      ]
     },
     "execution_count": 62,
     "metadata": {},
     "output_type": "execute_result"
    }
   ],
   "source": [
    "#In this case\n",
    "projDir=r'c:\\Users\\mike\\Documents\\ArcGIS\\Projects\\Assignements\\remoteSensing\\week4'\n",
    "hHillsMapPkg=\"%s\\\\data\\\\SampleData\\\\Vexcel-Hollywood\\\\HollywoodHills.mpkx\" % projDir\n",
    "\n",
    "arcpy.ExtractPackage_management(hHillsMapPkg, hHillsMapDir)"
   ]
  },
  {
   "cell_type": "markdown",
   "metadata": {},
   "source": [
    "This Next part adds the Hollywood Hills map to the project, but does not open it"
   ]
  },
  {
   "cell_type": "code",
   "execution_count": 63,
   "metadata": {},
   "outputs": [],
   "source": [
    "hHillsMap=hHillsMapDir+ r\"\\p20\\HollywoodHills.mapx\"\n",
    "\n",
    "aprx.importDocument(hHillsMap, True, False) \n",
    "\n",
    "aprx.save()"
   ]
  },
  {
   "cell_type": "markdown",
   "metadata": {},
   "source": [
    "This list the maps and types"
   ]
  },
  {
   "cell_type": "code",
   "execution_count": 67,
   "metadata": {
    "scrolled": true
   },
   "outputs": [
    {
     "name": "stdout",
     "output_type": "stream",
     "text": [
      "HollywoodHills MAP\n",
      "HollywoodHills_3D_orig SCENE\n",
      "HollywoodHills_orig MAP\n",
      "Map MAP\n",
      "Stereo MAP\n"
     ]
    }
   ],
   "source": [
    "hhMap=None\n",
    "\n",
    "for m in aprx.listMaps():\n",
    "    print(m.name, m.mapType)\n",
    "    if m.name=='HollywoodHills':\n",
    "        hhMap=m"
   ]
  },
  {
   "cell_type": "markdown",
   "metadata": {},
   "source": [
    "For the next few sections, I attempted, unsuccessfully, to add the map to the project.    Active View always returned None.  I have no idea what activeMap is all about..."
   ]
  },
  {
   "cell_type": "code",
   "execution_count": 65,
   "metadata": {},
   "outputs": [
    {
     "name": "stdout",
     "output_type": "stream",
     "text": [
      "<arcpy._mp.Map object at 0x0000017D309FD278>\n",
      "None\n"
     ]
    }
   ],
   "source": [
    "print(aprx.activeMap)\n",
    "print(aprx.activeView)"
   ]
  },
  {
   "cell_type": "markdown",
   "metadata": {},
   "source": [
    "Check for layouts, but there were none."
   ]
  },
  {
   "cell_type": "code",
   "execution_count": 66,
   "metadata": {},
   "outputs": [],
   "source": [
    "for lyt in aprx.listLayouts():\n",
    "    print(f\"  {lyt.name} ({lyt.pageHeight} x {lyt.pageWidth} {lyt.pageUnits})\")"
   ]
  },
  {
   "cell_type": "markdown",
   "metadata": {},
   "source": [
    "At this point, I gave up and added the map through the GUI.  This all may have had something to do with the creating of a custom project, per the excersise instruction.  No Layouts....  I should check further.\n",
    "\n",
    "Add Imagery basemap"
   ]
  },
  {
   "cell_type": "code",
   "execution_count": 62,
   "metadata": {},
   "outputs": [],
   "source": [
    "hhMap.addBasemap(\"Imagery\")\n"
   ]
  },
  {
   "cell_type": "markdown",
   "metadata": {},
   "source": [
    "Bookmark select can only be run with mapview or layouts.  There is no layout in this map, so try mapview."
   ]
  },
  {
   "cell_type": "code",
   "execution_count": 66,
   "metadata": {
    "scrolled": true
   },
   "outputs": [
    {
     "name": "stdout",
     "output_type": "stream",
     "text": [
      "Update Focus\n",
      "Redeveloped Building\n"
     ]
    },
    {
     "ename": "RuntimeError",
     "evalue": "",
     "output_type": "error",
     "traceback": [
      "\u001b[0;31m---------------------------------------------------------------------------\u001b[0m\n\u001b[0;31mRuntimeError\u001b[0m                              Traceback (most recent call last)",
      "In  \u001b[0;34m[66]\u001b[0m:\nLine \u001b[0;34m5\u001b[0m:     hhMv.zoomToBookmark(bookmark)\n",
      "File \u001b[0;34mc:\\program files\\arcgis\\pro\\Resources\\arcpy\\arcpy\\_mp.py\u001b[0m, in \u001b[0;32mzoomToBookmark\u001b[0m:\nLine \u001b[0;34m3289\u001b[0m:  \u001b[34mreturn\u001b[39;49;00m convertArcObjectToPythonObject(\u001b[36mself\u001b[39;49;00m._arc_object.zoomToBookmark(*gp_fixargs((bookmark,), \u001b[34mTrue\u001b[39;49;00m)))\n",
      "\u001b[0;31mRuntimeError\u001b[0m: \n\u001b[0;31m---------------------------------------------------------------------------\u001b[0m"
     ]
    }
   ],
   "source": [
    "hhMv=hhMap.defaultView\n",
    "for bookmark in hhMap.listBookmarks():\n",
    "    print(bookmark.name)\n",
    "    if bookmark.name == \"Redeveloped Building\":\n",
    "        hhMv.zoomToBookmark(bookmark)"
   ]
  },
  {
   "cell_type": "code",
   "execution_count": 69,
   "metadata": {},
   "outputs": [
    {
     "name": "stdout",
     "output_type": "stream",
     "text": [
      "HollywoodHills_3D SCENE\n",
      "HollywoodHills MAP\n",
      "Map MAP\n",
      "Stereo MAP\n"
     ]
    }
   ],
   "source": [
    "for m in aprx.listMaps():\n",
    "    print(m.name, m.mapType)"
   ]
  },
  {
   "cell_type": "code",
   "execution_count": null,
   "metadata": {},
   "outputs": [],
   "source": []
  }
 ],
 "metadata": {
  "kernelspec": {
   "display_name": "ArcGISPro",
   "language": "Python",
   "name": "python3"
  },
  "language_info": {
   "file_extension": ".py",
   "name": "python",
   "version": "3"
  }
 },
 "nbformat": 4,
 "nbformat_minor": 2
}
