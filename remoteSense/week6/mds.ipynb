{
 "cells": [
  {
   "cell_type": "code",
   "execution_count": 17,
   "metadata": {},
   "outputs": [],
   "source": [
    "import arcpy\n",
    "import os\n",
    "\n",
    "wsGdb = arcpy.env.workspace\n",
    "BATHY_RAST_PATH=r'C:\\Users\\mike\\Documents\\ArcGIS\\Projects\\Assignements\\remoteSensing\\week6\\data\\gebco_2020_geotiff'\n",
    "PROJ_PATH=r'C:\\Users\\mike\\Documents\\ArcGIS\\Projects\\Assignements\\remoteSensing\\week6'\n",
    "MDS_NAME=\"gebco_2020_mds\"\n",
    "\n"
   ]
  },
  {
   "cell_type": "code",
   "execution_count": 25,
   "metadata": {},
   "outputs": [
    {
     "name": "stdout",
     "output_type": "stream",
     "text": [
      "Found  8  rasters\n",
      "C:\\Users\\mike\\Documents\\ArcGIS\\Projects\\Assignements\\remoteSensing\\week6\\data\\gebco_2020_geotiff\\gebco_2020_n0.0_s-90.0_w-180.0_e-90.0.tif\n",
      "C:\\Users\\mike\\Documents\\ArcGIS\\Projects\\Assignements\\remoteSensing\\week6\\data\\gebco_2020_geotiff\\gebco_2020_n0.0_s-90.0_w-90.0_e0.0.tif\n",
      "C:\\Users\\mike\\Documents\\ArcGIS\\Projects\\Assignements\\remoteSensing\\week6\\data\\gebco_2020_geotiff\\gebco_2020_n0.0_s-90.0_w0.0_e90.0.tif\n",
      "C:\\Users\\mike\\Documents\\ArcGIS\\Projects\\Assignements\\remoteSensing\\week6\\data\\gebco_2020_geotiff\\gebco_2020_n0.0_s-90.0_w90.0_e180.0.tif\n",
      "C:\\Users\\mike\\Documents\\ArcGIS\\Projects\\Assignements\\remoteSensing\\week6\\data\\gebco_2020_geotiff\\gebco_2020_n90.0_s0.0_w-180.0_e-90.0.tif\n",
      "C:\\Users\\mike\\Documents\\ArcGIS\\Projects\\Assignements\\remoteSensing\\week6\\data\\gebco_2020_geotiff\\gebco_2020_n90.0_s0.0_w-90.0_e0.0.tif\n",
      "C:\\Users\\mike\\Documents\\ArcGIS\\Projects\\Assignements\\remoteSensing\\week6\\data\\gebco_2020_geotiff\\gebco_2020_n90.0_s0.0_w0.0_e90.0.tif\n",
      "C:\\Users\\mike\\Documents\\ArcGIS\\Projects\\Assignements\\remoteSensing\\week6\\data\\gebco_2020_geotiff\\gebco_2020_n90.0_s0.0_w90.0_e180.0.tif\n"
     ]
    }
   ],
   "source": [
    "bathyRasts=[]\n",
    "walk = arcpy.da.Walk(BATHY_RAST_PATH, topdown=True, datatype=\"RasterDataset\", type=\"TIF\")\n",
    "\n",
    "for dirpath, dirnames, filenames in walk:\n",
    "    if dirpath==BATHY_RAST_PATH:\n",
    "        for filename in filenames:\n",
    "            bathyRasts.append(os.path.join(dirpath, filename))\n",
    "    else: \n",
    "        continue\n",
    "\n",
    "print(\"Found \", len(bathyRasts), \" rasters\")\n",
    "for rast in bathyRasts:\n",
    "    print(rast)"
   ]
  },
  {
   "cell_type": "code",
   "execution_count": 26,
   "metadata": {},
   "outputs": [
    {
     "data": {
      "text/html": [
       "<style>.rendered_html td, .rendered_html th {text-align: left}table td#td0  {font-weight: bold}</style><table><tr><td id=\"td0\">type</td><td>Geographic</td></tr><tr><td id=\"td0\">name</td><td>GCS_WGS_1984</td></tr><tr><td id=\"td0\">factoryCode</td><td>4326</td></tr><tr><td id=\"td0\">datumName</td><td>D_WGS_1984</td></tr><tr><td id=\"td0\">angularUnitName</td><td>Degree</td></tr></table>"
      ],
      "text/plain": [
       "<geoprocessing spatial reference object object at 0x000001473CB72450>"
      ]
     },
     "execution_count": 26,
     "metadata": {},
     "output_type": "execute_result"
    }
   ],
   "source": [
    "spcRef = arcpy.Describe(bathyRasts[0]).spatialReference\n",
    "bandParam = arcpy.GetRasterProperties_management(bathyRasts[0], \"BANDCOUNT\")\n",
    "bitCount = arcpy.GetRasterProperties_management(bathyRasts[0], \"VALUETYPE\")\n",
    "\n",
    "spcRef"
   ]
  },
  {
   "cell_type": "code",
   "execution_count": 27,
   "metadata": {},
   "outputs": [
    {
     "data": {
      "text/html": [
       "<h2>Output</h2>1<h2>Messages</h2>Start Time: Monday, August 3, 2020 11:26:41 PM<br/>Number of bands = 1<br/>Succeeded at Monday, August 3, 2020 11:26:41 PM (Elapsed Time: 0.03 seconds)<br/><style>.rendered_html td, .rendered_html th {text-align: left;}.rendered_html tbody {border: 1px solid black;}</style>"
      ],
      "text/plain": [
       "<Result '1'>"
      ]
     },
     "execution_count": 27,
     "metadata": {},
     "output_type": "execute_result"
    }
   ],
   "source": [
    "bandParam"
   ]
  },
  {
   "cell_type": "code",
   "execution_count": 28,
   "metadata": {},
   "outputs": [
    {
     "data": {
      "text/html": [
       "<h2>Output</h2>6<h2>Messages</h2>Start Time: Monday, August 3, 2020 11:26:42 PM<br/>Value type = Signed Integer<br/>Succeeded at Monday, August 3, 2020 11:26:42 PM (Elapsed Time: 0.03 seconds)<br/><style>.rendered_html td, .rendered_html th {text-align: left;}.rendered_html tbody {border: 1px solid black;}</style>"
      ],
      "text/plain": [
       "<Result '6'>"
      ]
     },
     "execution_count": 28,
     "metadata": {},
     "output_type": "execute_result"
    }
   ],
   "source": [
    "bitCount"
   ]
  },
  {
   "cell_type": "code",
   "execution_count": 29,
   "metadata": {},
   "outputs": [
    {
     "data": {
      "text/plain": [
       "'16_BIT_SIGNED'"
      ]
     },
     "execution_count": 29,
     "metadata": {},
     "output_type": "execute_result"
    }
   ],
   "source": [
    "mdsBits = { \n",
    "    '0' : \"1_BIT\", \n",
    "    '1' : \"2_BIT\",\n",
    "    '2' : \"4_BIT\",\n",
    "    '3' : \"8_BIT_UNSIGNED\",\n",
    "    '4' : \"8_BIT_SIGNED\",\n",
    "    '5' : \"16_BIT_UNSIGNED\",\n",
    "    '6' : \"16_BIT_SIGNED\",\n",
    "    '7' : \"32_BIT_UNSIGNED\",\n",
    "    '8' : \"32_BIT_SIGNED\",\n",
    "    '9' : \"32_BIT_FLOAT\", \n",
    "    '10' : \"64_BIT_FLOAT\"\n",
    "}\n",
    "\n",
    "mdsBits[bitCount[0]]"
   ]
  },
  {
   "cell_type": "code",
   "execution_count": 30,
   "metadata": {},
   "outputs": [],
   "source": [
    "mds = arcpy.CreateMosaicDataset_management(\n",
    "     wsGdb, MDS_NAME, \n",
    "     spcRef, bandParam[0], \n",
    "     mdsBits[bitCount[0]])\n"
   ]
  },
  {
   "cell_type": "code",
   "execution_count": 31,
   "metadata": {
    "scrolled": false
   },
   "outputs": [
    {
     "data": {
      "text/html": [
       "<h2>Output</h2>C:\\Users\\mike\\Documents\\ArcGIS\\Projects\\Assignements\\remoteSensing\\week6\\peerGradeW6\\peerGradeW6.gdb\\gebco_2020_mds<h2>Messages</h2>Start Time: Monday, August 3, 2020 11:27:02 PM<br/>Succeeded at Monday, August 3, 2020 11:27:05 PM (Elapsed Time: 2.32 seconds)<br/><style>.rendered_html td, .rendered_html th {text-align: left;}.rendered_html tbody {border: 1px solid black;}</style>"
      ],
      "text/plain": [
       "<Result 'C:\\\\Users\\\\mike\\\\Documents\\\\ArcGIS\\\\Projects\\\\Assignements\\\\remoteSensing\\\\week6\\\\peerGradeW6\\\\peerGradeW6.gdb\\\\gebco_2020_mds'>"
      ]
     },
     "execution_count": 31,
     "metadata": {},
     "output_type": "execute_result"
    }
   ],
   "source": [
    "mds"
   ]
  },
  {
   "cell_type": "code",
   "execution_count": 32,
   "metadata": {},
   "outputs": [
    {
     "data": {
      "text/html": [
       "<h2>Output</h2>C:\\Users\\mike\\Documents\\ArcGIS\\Projects\\Assignements\\remoteSensing\\week6\\peerGradeW6\\peerGradeW6.gdb\\gebco_2020_mds<h2>Messages</h2>Start Time: Monday, August 3, 2020 11:27:33 PM<br/>2020-08-03T23:27:34.375: Loading raster datasets<br/>2020-08-03T23:27:34.395: Completed crawling 8 data source items. Added 8 mosaic dataset items.<br/>2020-08-03T23:27:34.396: Synchronizing crawled data source items<br/>2020-08-03T23:27:34.403: Synchronizing items associated with raster type instance 'Raster Dataset' [ID: 1].<br/>2020-08-03T23:27:34.414: Building pyramids for dataset: gebco_2020_n0.0_s-90.0_w-180.0_e-90.0.tif<br/>2020-08-03T23:27:54.234: Updating histogram statistics for dataset: gebco_2020_n0.0_s-90.0_w-180.0_e-90.0.tif<br/>2020-08-03T23:28:08.510: Building pyramids for dataset: gebco_2020_n0.0_s-90.0_w-90.0_e0.0.tif<br/>2020-08-03T23:28:28.763: Updating histogram statistics for dataset: gebco_2020_n0.0_s-90.0_w-90.0_e0.0.tif<br/>2020-08-03T23:28:43.259: Building pyramids for dataset: gebco_2020_n0.0_s-90.0_w0.0_e90.0.tif<br/>2020-08-03T23:29:03.053: Updating histogram statistics for dataset: gebco_2020_n0.0_s-90.0_w0.0_e90.0.tif<br/>2020-08-03T23:29:17.560: Building pyramids for dataset: gebco_2020_n0.0_s-90.0_w90.0_e180.0.tif<br/>2020-08-03T23:29:37.735: Updating histogram statistics for dataset: gebco_2020_n0.0_s-90.0_w90.0_e180.0.tif<br/>2020-08-03T23:29:53.205: Building pyramids for dataset: gebco_2020_n90.0_s0.0_w-180.0_e-90.0.tif<br/>2020-08-03T23:30:15.223: Updating histogram statistics for dataset: gebco_2020_n90.0_s0.0_w-180.0_e-90.0.tif<br/>2020-08-03T23:30:32.120: Building pyramids for dataset: gebco_2020_n90.0_s0.0_w-90.0_e0.0.tif<br/>2020-08-03T23:30:53.052: Updating histogram statistics for dataset: gebco_2020_n90.0_s0.0_w-90.0_e0.0.tif<br/>2020-08-03T23:31:07.404: Building pyramids for dataset: gebco_2020_n90.0_s0.0_w0.0_e90.0.tif<br/>2020-08-03T23:31:29.500: Updating histogram statistics for dataset: gebco_2020_n90.0_s0.0_w0.0_e90.0.tif<br/>2020-08-03T23:31:44.339: Building pyramids for dataset: gebco_2020_n90.0_s0.0_w90.0_e180.0.tif<br/>2020-08-03T23:32:04.774: Updating histogram statistics for dataset: gebco_2020_n90.0_s0.0_w90.0_e180.0.tif<br/>2020-08-03T23:32:19.646: Estimating raster statistics for mosaic dataset.<br/>2020-08-03T23:32:19.879: Completed synchronization: 8 items selected, 8 items synchronized.<br/>2020-08-03T23:32:20.291: Computing cell size levels<br/>2020-08-03T23:32:20.291: Computing unique cell size values<br/>2020-08-03T23:32:20.324: Computing maximum cell size values<br/>2020-08-03T23:32:20.327: Computing minimum cell size values<br/>2020-08-03T23:32:20.329: Updating visibility values of selected items<br/>2020-08-03T23:32:20.342: Computing maximum cell size for mosaic dataset<br/>2020-08-03T23:32:20.350: Completed computing cell size ranges.<br/>2020-08-03T23:32:20.425: Completed building boundary.<br/>Succeeded at Monday, August 3, 2020 11:32:21 PM (Elapsed Time: 4 minutes 47 seconds)<br/><style>.rendered_html td, .rendered_html th {text-align: left;}.rendered_html tbody {border: 1px solid black;}</style>"
      ],
      "text/plain": [
       "<Result 'C:\\\\Users\\\\mike\\\\Documents\\\\ArcGIS\\\\Projects\\\\Assignements\\\\remoteSensing\\\\week6\\\\peerGradeW6\\\\peerGradeW6.gdb\\\\gebco_2020_mds'>"
      ]
     },
     "execution_count": 32,
     "metadata": {},
     "output_type": "execute_result"
    }
   ],
   "source": [
    "mdname = mds[0]\n",
    "rastype = \"Raster Dataset\"\n",
    "inpath = bathyRasts\n",
    "\n",
    "arcpy.AddRastersToMosaicDataset_management( mdname,  rastype, inpath, build_pyramids=True, calculate_statistics=True )"
   ]
  },
  {
   "cell_type": "code",
   "execution_count": null,
   "metadata": {},
   "outputs": [],
   "source": []
  },
  {
   "cell_type": "code",
   "execution_count": null,
   "metadata": {},
   "outputs": [],
   "source": []
  }
 ],
 "metadata": {
  "kernelspec": {
   "display_name": "ArcGISPro",
   "language": "Python",
   "name": "python3"
  },
  "language_info": {
   "file_extension": ".py",
   "name": "python",
   "version": "3"
  }
 },
 "nbformat": 4,
 "nbformat_minor": 2
}
